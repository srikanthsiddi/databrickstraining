{
 "cells": [
  {
   "cell_type": "code",
   "execution_count": 0,
   "metadata": {
    "application/vnd.databricks.v1+cell": {
     "cellMetadata": {
      "byteLimit": 2048000,
      "rowLimit": 10000
     },
     "inputWidgets": {},
     "nuid": "96114fb4-a7fd-4203-b267-fa3598aedcec",
     "showTitle": true,
     "tableResultSettingsMap": {},
     "title": "getting started python program"
    }
   },
   "outputs": [],
   "source": [
    "print(\"hello databricks\")"
   ]
  },
  {
   "cell_type": "code",
   "execution_count": 0,
   "metadata": {
    "application/vnd.databricks.v1+cell": {
     "cellMetadata": {
      "byteLimit": 2048000,
      "implicitDf": true,
      "rowLimit": 10000
     },
     "inputWidgets": {},
     "nuid": "ed0c1edf-abe4-4c53-a8a9-08765012bf2d",
     "showTitle": true,
     "tableResultSettingsMap": {},
     "title": "SQL"
    }
   },
   "outputs": [],
   "source": [
    "%sql\n",
    "\n",
    "select \"Run SQL\""
   ]
  },
  {
   "cell_type": "markdown",
   "metadata": {
    "application/vnd.databricks.v1+cell": {
     "cellMetadata": {},
     "inputWidgets": {},
     "nuid": "baf1f35c-9ada-463a-a9cc-7ccdf82eebb9",
     "showTitle": false,
     "tableResultSettingsMap": {},
     "title": ""
    }
   },
   "source": []
  },
  {
   "cell_type": "markdown",
   "metadata": {
    "application/vnd.databricks.v1+cell": {
     "cellMetadata": {},
     "inputWidgets": {},
     "nuid": "276be1e1-1a14-42a7-8b31-1634354b524b",
     "showTitle": false,
     "tableResultSettingsMap": {},
     "title": ""
    }
   },
   "source": []
  },
  {
   "cell_type": "markdown",
   "metadata": {
    "application/vnd.databricks.v1+cell": {
     "cellMetadata": {
      "byteLimit": 2048000,
      "implicitDf": true,
      "rowLimit": 10000
     },
     "inputWidgets": {},
     "nuid": "7f20cca4-b4d4-4ed7-80e6-f71cbfa70a1b",
     "showTitle": true,
     "tableResultSettingsMap": {},
     "title": "Schema Creation 1"
    }
   },
   "source": [
    "%sql\n",
    "use catalog dev;\n",
    "create schema siddi;"
   ]
  },
  {
   "cell_type": "code",
   "execution_count": 0,
   "metadata": {
    "application/vnd.databricks.v1+cell": {
     "cellMetadata": {
      "byteLimit": 2048000,
      "implicitDf": true,
      "rowLimit": 10000
     },
     "inputWidgets": {},
     "nuid": "c54dc43c-7d1d-4462-bcb1-946d842fe930",
     "showTitle": true,
     "tableResultSettingsMap": {},
     "title": "Schema Creation 2"
    }
   },
   "outputs": [],
   "source": [
    "%sql\n",
    "create schema if not exists dev.siddi"
   ]
  },
  {
   "cell_type": "code",
   "execution_count": 0,
   "metadata": {
    "application/vnd.databricks.v1+cell": {
     "cellMetadata": {
      "byteLimit": 2048000,
      "implicitDf": true,
      "rowLimit": 10000
     },
     "inputWidgets": {},
     "nuid": "dbeb6ea7-2ac7-4ee3-917f-67730ffa6f42",
     "showTitle": true,
     "tableResultSettingsMap": {},
     "title": "Using Schema"
    }
   },
   "outputs": [],
   "source": [
    "%sql\n",
    "use catalog dev;\n",
    "USE SCHEMA siddi;"
   ]
  },
  {
   "cell_type": "code",
   "execution_count": 0,
   "metadata": {
    "application/vnd.databricks.v1+cell": {
     "cellMetadata": {
      "byteLimit": 2048000,
      "implicitDf": true,
      "rowLimit": 10000
     },
     "inputWidgets": {},
     "nuid": "af201b48-75c3-4a51-8ba6-44b5c61561f5",
     "showTitle": true,
     "tableResultSettingsMap": {},
     "title": "Table Creation"
    }
   },
   "outputs": [],
   "source": [
    "%sql\n",
    "create table dev.siddi.demo (id int, name string);\n",
    "insert into dev.siddi.demo values (1,'SIDDI'),(2,'SRIKANTH') ;   \n"
   ]
  },
  {
   "cell_type": "code",
   "execution_count": 0,
   "metadata": {
    "application/vnd.databricks.v1+cell": {
     "cellMetadata": {
      "byteLimit": 2048000,
      "implicitDf": true,
      "rowLimit": 10000
     },
     "inputWidgets": {},
     "nuid": "b8d7f5ef-626c-471c-befc-6ae4bf56fa35",
     "showTitle": true,
     "tableResultSettingsMap": {},
     "title": "Describe Table"
    }
   },
   "outputs": [],
   "source": [
    "%sql\n",
    "desc history demo;"
   ]
  },
  {
   "cell_type": "code",
   "execution_count": 0,
   "metadata": {
    "application/vnd.databricks.v1+cell": {
     "cellMetadata": {
      "byteLimit": 2048000,
      "implicitDf": true,
      "rowLimit": 10000
     },
     "inputWidgets": {},
     "nuid": "7f0d4d25-4ca8-4fbf-86ed-aeb0a56cadc0",
     "showTitle": true,
     "tableResultSettingsMap": {},
     "title": "Volume Creation"
    }
   },
   "outputs": [],
   "source": [
    "%sql\n",
    "create volume dev.siddi.raw;"
   ]
  }
 ],
 "metadata": {
  "application/vnd.databricks.v1+notebook": {
   "computePreferences": null,
   "dashboards": [],
   "environmentMetadata": {
    "base_environment": "",
    "environment_version": "2"
   },
   "inputWidgetPreferences": null,
   "language": "python",
   "notebookMetadata": {
    "mostRecentlyExecutedCommandWithImplicitDF": {
     "commandId": 5459993401664422,
     "dataframes": [
      "_sqldf"
     ]
    },
    "pythonIndentUnit": 4
   },
   "notebookName": "Getting Started",
   "widgets": {}
  },
  "language_info": {
   "name": "python"
  }
 },
 "nbformat": 4,
 "nbformat_minor": 0
}
