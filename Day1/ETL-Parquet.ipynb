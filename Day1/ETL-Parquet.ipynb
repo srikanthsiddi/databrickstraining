{
 "cells": [
  {
   "cell_type": "code",
   "execution_count": 0,
   "metadata": {
    "application/vnd.databricks.v1+cell": {
     "cellMetadata": {},
     "inputWidgets": {},
     "nuid": "c8926340-dc21-44c9-a71d-816608ee6688",
     "showTitle": false,
     "tableResultSettingsMap": {},
     "title": ""
    }
   },
   "outputs": [],
   "source": [
    "input_path=\"/Volumes/dev/naval/raw/parquet/titanic.parquet\"\n"
   ]
  },
  {
   "cell_type": "markdown",
   "metadata": {
    "application/vnd.databricks.v1+cell": {
     "cellMetadata": {},
     "inputWidgets": {},
     "nuid": "d81fd69b-f635-49de-a1b3-dda8b0e96e9c",
     "showTitle": false,
     "tableResultSettingsMap": {},
     "title": ""
    }
   },
   "source": [
    "- Task\n",
    "1. create a dataframe using json\n",
    "2. rename col PassengerId to passenger_id\n",
    "3. add a new col ingestiondate (current_timestamp)\n",
    "4. write it to table\n"
   ]
  },
  {
   "cell_type": "code",
   "execution_count": 0,
   "metadata": {
    "application/vnd.databricks.v1+cell": {
     "cellMetadata": {
      "byteLimit": 2048000,
      "rowLimit": 10000
     },
     "inputWidgets": {},
     "nuid": "f38cdd9c-0df2-4a12-a4e9-cc14c55b93b0",
     "showTitle": false,
     "tableResultSettingsMap": {},
     "title": ""
    }
   },
   "outputs": [],
   "source": [
    "from pyspark.sql.functions import *\n",
    "input_path=\"/Volumes/dev/naval/raw/parquet/titanic.parquet\"\n",
    "df=spark.read.parquet(input_path)\n",
    "df.withColumnRenamed(\"PassengerID\",\"Passenger_Id\").withColumn(\"Ingestiondate\",current_timestamp()).write.mode(\"overwrite\").option(\"overwriteSchema\",True).saveAsTable(\"dev.siddi.titanic\")\n",
    "\n",
    "#fromnaval\n",
    "#df=spark.read.parquet(input_path)\n",
    "#df1=df.withColumnRenamed(\"PassengerId\",\"passenger_id\").withColumn(\"ingestion_date\",current_timestamp())\n",
    "#df1.write.mode(\"overwrite\").option(\"overwriteSchema\",True).saveAsTable(\"dev.naval.titanic\")"
   ]
  },
  {
   "cell_type": "code",
   "execution_count": 0,
   "metadata": {
    "application/vnd.databricks.v1+cell": {
     "cellMetadata": {
      "byteLimit": 2048000,
      "implicitDf": true,
      "rowLimit": 10000
     },
     "inputWidgets": {},
     "nuid": "7b5acf82-80fb-478b-87f0-4ec2e8c90b32",
     "showTitle": false,
     "tableResultSettingsMap": {},
     "title": ""
    }
   },
   "outputs": [],
   "source": [
    "%sql\n",
    "select * from dev.siddi.titanic"
   ]
  }
 ],
 "metadata": {
  "application/vnd.databricks.v1+notebook": {
   "computePreferences": null,
   "dashboards": [],
   "environmentMetadata": {
    "base_environment": "",
    "environment_version": "2"
   },
   "inputWidgetPreferences": null,
   "language": "python",
   "notebookMetadata": {
    "mostRecentlyExecutedCommandWithImplicitDF": {
     "commandId": 5459993401665076,
     "dataframes": [
      "_sqldf"
     ]
    },
    "pythonIndentUnit": 4
   },
   "notebookName": "ETL-Parquet",
   "widgets": {}
  },
  "language_info": {
   "name": "python"
  }
 },
 "nbformat": 4,
 "nbformat_minor": 0
}
